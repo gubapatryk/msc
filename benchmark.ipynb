{
 "cells": [
  {
   "cell_type": "code",
   "execution_count": null,
   "id": "14e30c18-76f8-4f02-be4c-b08a67a54ee4",
   "metadata": {},
   "outputs": [],
   "source": [
    "using DelimitedFiles, TimerOutputs\n",
    "using LinearAlgebra\n",
    "using Arpack\n",
    "using GenericArpack\n",
    "using BenchmarkTools\n",
    "using ArnoldiMethod, LinearAlgebra, LinearMaps, TimerOutputs\n",
    "S = readdlm(\"matrixS.txt\")\n",
    "T = readdlm(\"matrixT.txt\")"
   ]
  },
  {
   "cell_type": "code",
   "execution_count": null,
   "id": "f6976603-e7bb-4f6e-8e74-d0e4a885ebb8",
   "metadata": {},
   "outputs": [],
   "source": [
    "\n",
    "sample_count = 10\n",
    "BenchmarkTools.DEFAULT_PARAMETERS.samples = sample_count\n",
    "BenchmarkTools.DEFAULT_PARAMETERS.seconds = 60\n",
    "Sys.cpu_info()[1].model"
   ]
  },
  {
   "cell_type": "code",
   "execution_count": null,
   "id": "d68c5497-376f-40fd-9c1f-9f962417cdc3",
   "metadata": {},
   "outputs": [],
   "source": [
    "\n",
    "const c0 = 299_792_458.   # speed of light [m/s]\n",
    "const ε0 = 8.85418781e-12 # vacuum permittivity [F/m]\n",
    "const μ0 = 1.256637062e-6 # vacuum permeability [H/m]\n",
    "const μr = 1.0\n",
    "const ε  = ε0\n",
    "\n",
    "@benchmark k², e = eigen(S,T)"
   ]
  },
  {
   "cell_type": "code",
   "execution_count": null,
   "id": "7c59a9e3-5387-485b-99ec-ed1265b11a3f",
   "metadata": {},
   "outputs": [],
   "source": [
    "#shift and invert lanchos ARPACK\n",
    "#@benchmark λ, ϕ = Arpack.eigs(Array(S), Array(T), nev=36, sigma=105.0, which=:LR);\n",
    "\n",
    "\n",
    "times = [@elapsed Arpack.eigs(Array(S), Array(T), nev=36, sigma=105.0, which=:LR) for _ in 1:sample_count]\n",
    "println(\"Mean execution time: \", mean(times), \" seconds\")\n",
    "println(\"Standard deviation: \", std(times), \" seconds\")\n",
    "println(\"Min execution time: \", minimum(times), \" seconds\")\n",
    "println(\"Max execution time: \", maximum(times), \" seconds\")"
   ]
  },
  {
   "cell_type": "code",
   "execution_count": null,
   "id": "75c043a8-332d-43ac-8310-3d371e46cd54",
   "metadata": {},
   "outputs": [],
   "source": [
    "\n",
    "@benchmark λ, ϕ = GenericArpack.eigs(Symmetric(S), Symmetric(T), 36)"
   ]
  },
  {
   "cell_type": "code",
   "execution_count": null,
   "id": "78bb0d19-6c91-404d-bfdb-5dd49553d52c",
   "metadata": {},
   "outputs": [],
   "source": [
    "\n",
    "\n",
    "\n",
    "const to = TimerOutput()\n",
    "\n",
    "\n",
    "struct ShiftAndInvert{TA,TB,TT}\n",
    "    A_lu::TA\n",
    "    B::TB\n",
    "    temp::TT\n",
    "    sigma::eltype(TA)  # Add the shift parameter\n",
    "end\n",
    "\n",
    "function (M::ShiftAndInvert)(y, x)\n",
    "    # Apply (A - σB)⁻¹ B x\n",
    "    mul!(M.temp, M.B, x)                     # temp = B * x\n",
    "    mul!(y, M.B, x)                          # Update temp\n",
    "    ldiv!(y, M.A_lu, M.temp)                 # y = (A - σB)⁻¹ temp\n",
    "end\n",
    "\n",
    "function construct_linear_map(A, B, σ)\n",
    "    # Factorize (A - σB)\n",
    "    @timeit to \"nest 1\" begin\n",
    "    A_shifted = A - σ * B\n",
    "    a = ShiftAndInvert(factorize(A_shifted), B, Vector{eltype(A)}(undef, size(A, 1)), σ)\n",
    "    LinearMap{eltype(A)}(a, size(A, 1), ismutating = true)\n",
    "    end\n",
    "end\n",
    "\n",
    "\n",
    "function compute_eigenvalues(A, B, σ; nev=9, tol=1e-14, restarts=150)\n",
    "    # Use shift-and-invert linear map\n",
    "    \n",
    "    @timeit to \"throwing\" begin\n",
    "    decomp, = partialschur(\n",
    "        construct_linear_map(A, B, σ),\n",
    "        nev = nev,\n",
    "        tol = tol,\n",
    "        restarts = restarts,\n",
    "        which = :LM,  # Dominant eigenvalues of the transformed problem\n",
    "    )\n",
    "    # Recover original eigenvalues\n",
    "    λs_inv, X = partialeigen(decomp)\n",
    "    end\n",
    "    λs = σ .+ (1 ./ λs_inv)  # Transform back the eigenvalues\n",
    "    return λs, X\n",
    "end\n",
    "\n",
    "# Example usage\n",
    "σ = 1760.0  # Example target\n",
    "#@benchmark λs, X = compute_eigenvalues(S, T, σ, nev=9)\n",
    "\n",
    "times = [@elapsed compute_eigenvalues(S, T, σ, nev=9) for _ in 1:sample_count]\n",
    "println(\"Mean execution time: \", mean(times), \" seconds\")\n",
    "println(\"Standard deviation: \", std(times), \" seconds\")\n",
    "println(\"Min execution time: \", minimum(times), \" seconds\")\n",
    "println(\"Max execution time: \", maximum(times), \" seconds\")\n",
    "to"
   ]
  },
  {
   "cell_type": "code",
   "execution_count": null,
   "id": "1837d54d-9ef9-425e-aee7-41c0ee56122b",
   "metadata": {},
   "outputs": [],
   "source": []
  },
  {
   "cell_type": "code",
   "execution_count": null,
   "id": "bebd9a80-4140-4ffd-8a88-77de5880ea87",
   "metadata": {},
   "outputs": [],
   "source": [
    "sqrt(1760) / 2π * c0 * 1e-9 "
   ]
  },
  {
   "cell_type": "code",
   "execution_count": null,
   "id": "08679c8a-59b0-4da9-81c4-35b19948eb9d",
   "metadata": {},
   "outputs": [],
   "source": []
  }
 ],
 "metadata": {
  "kernelspec": {
   "display_name": "Julia 1.9.4",
   "language": "julia",
   "name": "julia-1.9"
  },
  "language_info": {
   "file_extension": ".jl",
   "mimetype": "application/julia",
   "name": "julia",
   "version": "1.9.4"
  }
 },
 "nbformat": 4,
 "nbformat_minor": 5
}
